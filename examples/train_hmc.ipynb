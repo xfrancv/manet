{
 "cells": [
  {
   "cell_type": "markdown",
   "metadata": {},
   "source": [
    "# Learning MN classifier of label sequences\n",
    "\n",
    "This example shows how to learn a linear Markov Network classifier that outputs a sequence of labels\n",
    "$$\n",
    "   (\\hat{y}_0,\\ldots,\\hat{y}_{l-1})\\in arg\\max_{(y_0,\\ldots,y_{l-1})\\in \\cal{Y}^{l}} \\left( \\sum_{v=0}^{l-1} \\mathbf{x}_v^T\\mathbf{w}_{y_v} + \\sum_{v=1}^{l-1} g(y_{v-1},y_v) \\right )\n",
    "$$\n",
    "where $\\cal{Y}=\\{0,1,\\ldots,n_y-1\\}$ is set of $n_y$ labels, $l$ is length of the sequence, $(\\mathbf{x}_0,\\ldots,\\mathbf{x}_{l-1})\\in\\Re^{n\\times l}$ is a sequence of input feature vectors, $(\\hat{y}_0,\\ldots,\\hat{y}_{l-1})\\in\\cal{Y}^l$ is predicted sequence of labels, $\\mathbf{w}_y\\in\\Re^n$, $y\\in\\cal{Y}$, are weight vectors and $g\\colon\\cal{Y}\\times\\cal{Y}\\rightarrow\\Re$ is a function scoring quality of a pair of consecutive labels. The weight vectors $\\mathbf{w}_y\\in\\Re^n$, $y\\in\\cal{Y},$ and the pair-wise score $g\\colon\\cal{Y}\\times\\cal{Y}\\rightarrow\\Re$ are the parameters to be learned from examples.\n",
    "\n",
    "This example shows how to learn the parameters from completly annotated sequences (standard supervised learning):\n",
    "$$\n",
    "   \\{ ((\\mathbf{x}_0^j,\\ldots,\\mathbf{x}_{l-1}^j), (y_0^j,\\ldots,y_{l-1}^j))\\in \\Re^{n\\times l}\\times \\cal{Y}^l  \\mid j = 1,\\ldots, m \\}\n",
    "$$\n",
    "However, we also show how learn the parameters from partially annoated examples when some labels in the training set are missing:\n",
    "$$\n",
    "   \\{ ((\\mathbf{x}_0^j,\\ldots,\\mathbf{x}_{l-1}^j), (y_0^j,\\ldots,y_{l-1}^j))\\in \\Re^{n\\times l}\\times (\\cal{Y}\\cup \\{?\\})^l  \\mid j = 1,\\ldots, m \\}\n",
    "$$\n",
    "The algorithm implemented in MANET is guaranteed to work under assumption that the labels are missing at random.\n",
    "\n",
    "The objective is to learn MN predictor with minimal expected Hamming loss. Becasue the Hamming loss is hard to optimize as its gradient is zero almost everywhere, the M3N algorithm replaces the target Hamming loss by easier to optimize proxy loss. MANET implements two proxy losses: i) LP Margin-Rescaling loss and ii) MArkov Network Adversarial (MANA) loss.\n",
    "\n",
    "In this example, the input/output sequences are generated from a known Hidden Markov Chain model. Hence, we can estimate the Bayes risk and use it as a reference solution when evaluating the MN predictor learned from data."
   ]
  },
  {
   "cell_type": "markdown",
   "metadata": {},
   "source": [
    "# Define data generator\n",
    "\n",
    "We will use synthetic data generated from a Hidden Markov Chain. The observable sequence $(x_0,\\ldots,x_{l-1})\\in \\{0,\\ldots,n_x-1\\}^l$ and the hidden sequence $(y_0,\\ldots,y_{l-1})\\in \\{0,\\ldots,n_y-1\\}^l$ follow the distribution:\n",
    "$$ P(x_0,\\ldots,x_{l-1},y_0,\\ldots,y_{l-1})=P_0(y_0)\\prod_{i=1}^{l-1} P(y_i\\mid y_{i-1}) P(x_i\\mid y_i)$$\n",
    "\n",
    "In this code we set the transition probability to\n",
    "$$P(y_{i+1}\\mid y_i) = \\left \\{ \\begin{array}{lll}\n",
    "   \\alpha & if & y_{i+1} = y_i\\\\\n",
    "   (1-\\alpha)/(n_y-1) & if & y_{i+1} \\neq y_i\n",
    "  \\end{array}\n",
    "  \\right .\n",
    "$$\n",
    "and the emission probability to\n",
    "$$P(x_i\\mid y_i) = \\left \\{ \\begin{array}{lll}\n",
    "   \\beta & if & x_i = y_i\\\\\n",
    "   (1-\\beta)/(n_x-1) & if & x_i \\neq y_i\n",
    "  \\end{array}\n",
    "  \\right .\n",
    "$$\n",
    "\n",
    "The number of observeble symbols $n_x$, hidden symbols $n_y$, the initial state probability $P_0(y_0)$, the numbers $\\alpha\\in(0,1)$, $\\beta\\in(0,1)$ and the sequence length $l$ are hyperparameters that can be defined below. \n",
    "\n",
    "In the following example, the sequence length is kept constant, however note that MANET allows the length of training examples to be different."
   ]
  },
  {
   "cell_type": "code",
   "execution_count": 1,
   "metadata": {},
   "outputs": [],
   "source": [
    "import numpy as np\n",
    "from manet.hmc import HMC\n",
    "\n",
    "n_x = 30        # number of observable symbols\n",
    "n_y = 10        # number of hidden symbols\n",
    "alpha = 0.7     # hyperparameter of the transition probability\n",
    "beta = 0.7      # hyperparameter of the emission probability\n",
    "seq_length = 10 # sequence length\n",
    "\n",
    "# define transition probability\n",
    "trans = (1-beta)*np.ones((n_y,n_y)) / (n_y-1)\n",
    "np.fill_diagonal( trans, beta )\n",
    "\n",
    "# define emission probability\n",
    "emis = (1-alpha)*np.ones( (n_y,n_x )) / (n_x - 1)\n",
    "np.fill_diagonal( emis, alpha )\n",
    "\n",
    "# define initial state probability\n",
    "p0 = np.ones( n_y ) / n_y\n",
    "\n",
    "# initialize HMC class\n",
    "Hmc = HMC( p0, trans, emis, alphabet=np.int16)"
   ]
  },
  {
   "cell_type": "markdown",
   "metadata": {},
   "source": [
    "# Estimate Bayes risk\n",
    "\n",
    "Because we know the data distribution, we can construct Bayes optimal rule. We construct the Bayes rule that minimizes the expected Hamming loss \n",
    "$$\n",
    "  \\ell_{Hamming}(y_0,\\ldots,y_{l-1},\\hat{y}_0,\\ldots,\\hat{y}_{l-1}) = \\frac{1}{l}\\sum_{i=1}^{l-1}\\delta(y_i\\neq \\hat{y}_i)\n",
    "$$\n",
    "and the Bayes rule that minimizes the expected 0/1-loss\n",
    "$$\n",
    "  \\ell_{0/1}(y_0,\\ldots,y_{l-1},\\hat{y}_0,\\ldots,\\hat{y}_{l-1}) = \\left \\{\n",
    "    \\begin{array}{ll}\n",
    "      1 & if \\; \\lor_{i=1}^{l-1}\\delta(y_i\\neq \\hat{y}_i)\\\\\n",
    "      0 & otherwise\n",
    "      \\end{array}\n",
    "      \\right .\n",
    "$$\n",
    "In case of Hamming loss, the Bayes rule is a sequence of the most probable states which can be computed by function <code>HMC.decode</code>. In case of 0/1l-loss, the Bayes rule is a sequence maximizing a posteriory probability which can be computed by function <code>HMC.map</code>. Having the Bayes rules, we estimate the Bayes risk (best attainable) to get a reference solution for later comparison with the rule learned from examples by M3N algorithm. The implemented M3N algorithm minimizes only a proxy of the Hamming loss."
   ]
  },
  {
   "cell_type": "code",
   "execution_count": 2,
   "metadata": {},
   "outputs": [
    {
     "name": "stdout",
     "output_type": "stream",
     "text": [
      "Bayes risk for Hamming loss: 0.15619999999999737\n",
      "bayes risk for 0/1-loss: 0.7453\n"
     ]
    }
   ],
   "source": [
    "m = 10000 # number of examples used to estimate the Bayes risk\n",
    "\n",
    "risk_hamming_decode = 0  # Expected Hamming loss of max-marginals (decode) rule\n",
    "risk_01_map = 0          # Expected 0/1-loss of MAP rule\n",
    "for i in range( m ):\n",
    "    X, Y = Hmc.generate( seq_length )\n",
    "\n",
    "    # Maximum aposteriory rule\n",
    "    Ymap, log_map = Hmc.map(X)\n",
    "    risk_01_map += int( np.any( Y != Ymap ) )\n",
    "\n",
    "    # Decode rule i.e. sequnce of the most probable states\n",
    "    P = Hmc.decode( X )\n",
    "    Ydec = np.argmax( P, axis = 0)\n",
    "    risk_hamming_decode += np.count_nonzero( Y-Ydec ) / seq_length\n",
    "    \n",
    "risk_01_map /= m\n",
    "risk_hamming_decode /= m\n",
    "    \n",
    "print(\"Bayes risk for Hamming loss:\", risk_hamming_decode)\n",
    "print(\"bayes risk for 0/1-loss:\", risk_01_map)"
   ]
  },
  {
   "cell_type": "markdown",
   "metadata": {},
   "source": [
    "# Learning from completly annotated examples\n",
    "\n",
    "We use the Hidden Markov Chain model to generate set of training sequences and testing sequences. We first consider training from complete label sequences, i.e. there are no missing labels."
   ]
  },
  {
   "cell_type": "code",
   "execution_count": 3,
   "metadata": {},
   "outputs": [
    {
     "data": {
      "text/plain": [
       "{'X': array([ 1,  1, 19, 20,  2,  2,  4,  4,  4,  6], dtype=int16),\n",
       " 'Y': array([1, 1, 4, 2, 2, 2, 4, 4, 4, 6], dtype=int16),\n",
       " 'n_x': 30,\n",
       " 'n_y': 10}"
      ]
     },
     "execution_count": 3,
     "metadata": {},
     "output_type": "execute_result"
    }
   ],
   "source": [
    "# define number of ttraining and test examples\n",
    "n_trn_examples = 500 \n",
    "n_tst_examples = 500\n",
    "def generate_sequences( Hmc, length, n_examples):\n",
    "    examples = []\n",
    "    for i in range( n_examples):\n",
    "        X, Y = Hmc.generate(  length )\n",
    "        examples.append({'X': X, 'Y': Y, 'n_x': Hmc.n_x, 'n_y': Hmc.n_y} )\n",
    "    return examples        \n",
    "\n",
    "trn_sequences = generate_sequences( Hmc, seq_length, n_trn_examples)\n",
    "tst_sequences = generate_sequences( Hmc, seq_length, n_tst_examples)\n",
    "\n",
    "trn_sequences[0]"
   ]
  },
  {
   "cell_type": "markdown",
   "metadata": {},
   "source": [
    "We represent each training example as a Markov Network whose input is the observable sequence. The class implementing the Markov Network allows i) to predict the sequence of labels and ii) to evaluate the proxy of the Hamming loss and its gradient which is used when learning parameters of the MN predictor. MANET implements two models which differ in the used proxy: i) the Margin-rescaling loss (class <code>MrMaNetHomo</code>)and ii) MArkov Network Adversarial loss (class <code>AdvMaNetHomo</code>). The models assume the input observations to be real-valued feature vectors, hence, in this example the symbols of the input sequences are one-hot encoded. The models work for arbitrary graph of interactions, however, in this example the edges of the graph are set to be a simple chain.\n"
   ]
  },
  {
   "cell_type": "code",
   "execution_count": 4,
   "metadata": {},
   "outputs": [],
   "source": [
    "from manet.m3n import M3N, one_hot\n",
    "from manet.mn_models import MrMaNetHomo, AdvMaNetHomo\n",
    "\n",
    "def create_markov_nets( model, sequences ):\n",
    "    examples = []\n",
    "    for seq in sequences:\n",
    "        length = len( seq['X'])        \n",
    "        chain = np.concatenate(( np.arange(0,length-1).reshape((1,length-1)),\n",
    "                                 np.arange(1,length).reshape((1,length-1)) ),axis=0)\n",
    "        examples.append( model( n_y = seq['n_y'],\\\n",
    "                            X = one_hot(seq['n_x'],seq['X']),\\\n",
    "                            Y = seq['Y'],\\\n",
    "                            E = chain, \\\n",
    "                            graph = 'chain') )\n",
    "    return examples\n",
    "\n",
    "# select which proxy of the Hamming loss is going to be used\n",
    "model = MrMaNetHomo   # use Margin-recaling proxy\n",
    "#model = AdvMaNetHomo # use MANA loss\n",
    "\n",
    "trn_examples = create_markov_nets( model, trn_sequences)\n",
    "tst_examples = create_markov_nets( model, tst_sequences)"
   ]
  },
  {
   "cell_type": "markdown",
   "metadata": {},
   "source": [
    "We use stochastic gradient solver to minimize L2-regularized proxy of the Hamming loss (Margin-Rescaling or MANA) on training examples. The strength of L2-regularization is a hyperpameter (<code>lam</code>). The MANET implements a plain Stochastic Gradient Descend (SGD) and ADAM (<code>solver</code>). The algorithm runs for a fixed number of passes through training examples (<code>num_epochs</code>). The learning rate $\\alpha_t$ at epoch $t$ is set to \n",
    "$$\n",
    "   \\alpha_{t} = A(t+1)^B\n",
    "$$\n",
    "where $A$ and $B$ are hyperparameters. The solver returns a vector <code>params</code> which encapsulates parameters $\\mathbf{w}_y\\in\\Re^n$, $y\\in\\cal{Y}$, and $g\\colon\\cal{Y}\\times\\cal{Y}\\rightarrow\\Re$ of the MN predictor."
   ]
  },
  {
   "cell_type": "code",
   "execution_count": 5,
   "metadata": {},
   "outputs": [
    {
     "name": "stdout",
     "output_type": "stream",
     "text": [
      "epoch=0 obj_val=0.9272982448751459\n",
      "epoch=10 obj_val=0.4963930285339164\n",
      "epoch=20 obj_val=0.43220319213721986\n",
      "epoch=30 obj_val=0.41109246162454505\n",
      "epoch=40 obj_val=0.4014600185445441\n",
      "epoch=50 obj_val=0.3946232028035921\n",
      "epoch=60 obj_val=0.39086565445948157\n",
      "epoch=70 obj_val=0.38827788095176313\n",
      "epoch=80 obj_val=0.38680813743013903\n",
      "epoch=90 obj_val=0.3851299513169953\n",
      "epoch=99 obj_val=0.3843592444110392\n"
     ]
    },
    {
     "data": {
      "text/plain": [
       "Text(0, 0.5, 'objective')"
      ]
     },
     "execution_count": 5,
     "metadata": {},
     "output_type": "execute_result"
    },
    {
     "data": {
      "image/png": "[encoded data removed]",
      "text/plain": [
       "<Figure size 640x480 with 1 Axes>"
      ]
     },
     "metadata": {},
     "output_type": "display_data"
    }
   ],
   "source": [
    "import matplotlib.pyplot as plt\n",
    "\n",
    "config = {'num_epochs': 100,  # number of passes over training examples\n",
    "          'lr_const': 0.01,   # hyperparamter A\n",
    "          'lr_exp': -1,       # hyperparamter B\n",
    "          'eval_obj': 10,     # frequency of evaluation of the objective function \n",
    "          'verb': True,       # display progress\n",
    "          'solver': 'adam'}   # solver \"adam\" or \"sgd\"\n",
    " \n",
    "algo = M3N( config )\n",
    "\n",
    "lam = 0 # regularization parameter\n",
    "params, obj_val = algo.train( trn_examples, lam )\n",
    "\n",
    "plt.figure()\n",
    "plt.plot(obj_val)\n",
    "plt.ylabel(\"objective\")"
   ]
  },
  {
   "cell_type": "markdown",
   "metadata": {},
   "source": [
    "We evaluate training and test error and compare agains the error of Bayes predictor. Recall that M3N aims to minimize a proxy of the Hamming loss."
   ]
  },
  {
   "cell_type": "code",
   "execution_count": 7,
   "metadata": {},
   "outputs": [
    {
     "name": "stdout",
     "output_type": "stream",
     "text": [
      "[MN predictor]\n",
      "Training error\n",
      "Hamming loss: 0.17120000000000002\n",
      "01-loss: 0.798\n",
      "Test error\n",
      "Hamming loss: 0.184\n",
      "01-loss: 0.818\n",
      "\n",
      "[Test error of Bayes predictor]\n",
      "Hamming loss: 0.15619999999999737\n",
      "01 loss: 0.7453\n"
     ]
    }
   ],
   "source": [
    "trn_hamming_loss, trn_01_loss = algo.eval( params, trn_examples )\n",
    "trn_risk_hamming_m3n = np.mean(trn_hamming_loss)\n",
    "trn_risk_01_m3n = np.mean(trn_01_loss)\n",
    "\n",
    "print(\"[MN predictor]\")\n",
    "print(\"Training error\")\n",
    "print( \"Hamming loss:\",trn_risk_hamming_m3n)\n",
    "print( \"01-loss:\", trn_risk_01_m3n )\n",
    "\n",
    "tst_hamming_loss, tst_01_loss = algo.eval( params, tst_examples )\n",
    "tst_risk_hamming_m3n = np.mean(tst_hamming_loss)\n",
    "tst_risk_01_m3n = np.mean(tst_01_loss)\n",
    "\n",
    "print(\"Test error\")\n",
    "print( \"Hamming loss:\",tst_risk_hamming_m3n)\n",
    "print( \"01-loss:\", tst_risk_01_m3n)\n",
    "\n",
    "print()\n",
    "print(\"[Test error of Bayes predictor]\")\n",
    "print( \"Hamming loss:\", risk_hamming_decode)\n",
    "print( \"01 loss:\", risk_01_map)"
   ]
  },
  {
   "cell_type": "markdown",
   "metadata": {},
   "source": [
    "The following code shows some predictions on test examples."
   ]
  },
  {
   "cell_type": "code",
   "execution_count": 8,
   "metadata": {},
   "outputs": [
    {
     "name": "stdout",
     "output_type": "stream",
     "text": [
      "example: 0\n",
      "predictor score   : 3.4840696078171978\n",
      "input sequnce     : [28  9  9  3  3  3 23  3  3  3]\n",
      "true sequence     : [9 9 9 3 3 3 3 3 3 3]\n",
      "predicted sequence: [9 9 9 3 3 3 3 3 3 3]\n",
      "example: 1\n",
      "predictor score   : 3.343106245589225\n",
      "input sequnce     : [ 1  4 16  8  1  8  8  8  0  0]\n",
      "true sequence     : [9 9 9 8 8 8 8 8 0 0]\n",
      "predicted sequence: [1 4 4 8 1 8 8 8 0 0]\n",
      "example: 2\n",
      "predictor score   : 3.1801161697904243\n",
      "input sequnce     : [23  2 10  0  0  8  4  2  2  0]\n",
      "true sequence     : [1 1 1 0 0 8 2 2 2 0]\n",
      "predicted sequence: [2 2 2 0 0 8 4 2 2 0]\n",
      "example: 3\n",
      "predictor score   : 3.0993182837087776\n",
      "input sequnce     : [27  9  9 11  1  1 16  9  4  4]\n",
      "true sequence     : [9 9 9 9 1 1 7 4 4 4]\n",
      "predicted sequence: [9 9 9 1 1 1 9 9 4 4]\n",
      "example: 4\n",
      "predictor score   : 3.134699976074608\n",
      "input sequnce     : [ 7  1  1 23  1 23 11  4  4  7]\n",
      "true sequence     : [7 1 1 1 1 1 1 4 4 7]\n",
      "predicted sequence: [7 1 1 1 1 4 4 4 4 7]\n",
      "example: 5\n",
      "predictor score   : 3.49596692692834\n",
      "input sequnce     : [19  2  2  4  2  2  7  0  0  0]\n",
      "true sequence     : [3 2 2 4 2 2 7 0 0 0]\n",
      "predicted sequence: [2 2 2 4 2 2 7 0 0 0]\n",
      "example: 6\n",
      "predictor score   : 3.106444660646231\n",
      "input sequnce     : [ 4  4 21  5  7  6  0 16 15  0]\n",
      "true sequence     : [4 4 5 5 5 8 0 0 0 0]\n",
      "predicted sequence: [4 4 5 5 7 6 0 0 0 0]\n",
      "example: 7\n",
      "predictor score   : 3.2204359441991195\n",
      "input sequnce     : [ 3  5 20  5 29  2  2 16  2  2]\n",
      "true sequence     : [5 5 5 5 2 2 2 2 2 2]\n",
      "predicted sequence: [3 5 5 5 5 2 2 2 2 2]\n",
      "example: 8\n",
      "predictor score   : 3.4413441845685346\n",
      "input sequnce     : [ 6  6 22  6  6  6  4 24  4  0]\n",
      "true sequence     : [6 6 6 6 6 6 4 4 4 0]\n",
      "predicted sequence: [6 6 6 6 6 6 4 4 4 0]\n",
      "example: 9\n",
      "predictor score   : 3.4901917356782333\n",
      "input sequnce     : [ 3  7  7  7 26  0  7  7  2  6]\n",
      "true sequence     : [7 7 7 7 7 7 7 7 6 6]\n",
      "predicted sequence: [3 7 7 7 7 0 7 7 2 6]\n"
     ]
    }
   ],
   "source": [
    "for i in range(10):\n",
    "    Y_pred, score = algo.predict( params, tst_examples[i] )\n",
    "\n",
    "    print(\"example:\", i)\n",
    "    print(\"predictor score   :\", score )\n",
    "    print(\"input sequnce     :\", tst_sequences[i]['X'])\n",
    "    print(\"true sequence     :\", tst_sequences[i]['Y'] )\n",
    "    print(\"predicted sequence:\",Y_pred )"
   ]
  },
  {
   "cell_type": "markdown",
   "metadata": {},
   "source": [
    "# Learning from examples with missing labels\n",
    "\n",
    "We use the Hidden Markov Chain model to generate set of training sequences and testing sequences. A randomly selected portion of labels in the training sequences are changed to be uknown (special label -1). The portion of missing labels is defined by <code>p_missing</code>. Note that the learning algorithm does not need to known the portion of missing labels, however it relies on the assumption that the labels are missing at random."
   ]
  },
  {
   "cell_type": "code",
   "execution_count": 9,
   "metadata": {},
   "outputs": [
    {
     "data": {
      "text/plain": [
       "{'X': array([ 3, 18,  3,  3,  3,  6,  6,  6,  0,  7], dtype=int16),\n",
       " 'Y': array([ 3,  3,  3,  3,  6, -1,  6,  6,  6,  7], dtype=int16),\n",
       " 'n_x': 30,\n",
       " 'n_y': 10}"
      ]
     },
     "execution_count": 9,
     "metadata": {},
     "output_type": "execute_result"
    }
   ],
   "source": [
    "# define number of training and test examples\n",
    "n_trn_examples = 500 # number of \n",
    "n_tst_examples = 500\n",
    "\n",
    "# define portion of missing labels\n",
    "p_missing = 0.2\n",
    "\n",
    "def generate_sequences( Hmc, length, n_examples, p_missing):\n",
    "    examples = []\n",
    "    for i in range( n_examples):\n",
    "        X, Y = Hmc.generate(  length )\n",
    "\n",
    "        # randomly selected a subset of labels and change them to unknowns\n",
    "        missing = np.random.choice( 2, length, p=[1-p_missing,p_missing] )\n",
    "        Y[missing==1] = -1\n",
    "\n",
    "        examples.append({'X': X, 'Y': Y, 'n_x': Hmc.n_x, 'n_y': Hmc.n_y} )\n",
    "    return examples        \n",
    "\n",
    "trn_sequences_missing = generate_sequences( Hmc, seq_length, n_trn_examples, p_missing)\n",
    "trn_sequences_missing[0]"
   ]
  },
  {
   "cell_type": "markdown",
   "metadata": {},
   "source": [
    "Training on from examples with missing labels is the same as in the case of complete annotations. The only difference is that the learning algorithm needs to know type of the process which generated the missing labels. There are two options supported: i) probability of missing label is the same for each object in the sequence (denoted as <code>homo</code>-geneous annotations) or ii) the probability can be different for each object in the sequence (<code>unhomo</code>-geneous annotations). Note that the algorithm does not require to know the probabilities but only whether they are the same or different. "
   ]
  },
  {
   "cell_type": "code",
   "execution_count": 10,
   "metadata": {},
   "outputs": [
    {
     "name": "stdout",
     "output_type": "stream",
     "text": [
      "epoch=0 obj_val=0.9919691402877069\n",
      "epoch=10 obj_val=0.5363907432873647\n",
      "epoch=20 obj_val=0.46282813862131955\n",
      "epoch=30 obj_val=0.43438351614677795\n",
      "epoch=40 obj_val=0.41736179793012346\n",
      "epoch=50 obj_val=0.40675856340841776\n",
      "epoch=60 obj_val=0.3993072741350134\n",
      "epoch=70 obj_val=0.394413796045726\n",
      "epoch=80 obj_val=0.38952141307869154\n",
      "epoch=90 obj_val=0.3859297059481015\n",
      "epoch=99 obj_val=0.3830540911703365\n"
     ]
    },
    {
     "data": {
      "text/plain": [
       "Text(0, 0.5, 'objective')"
      ]
     },
     "execution_count": 10,
     "metadata": {},
     "output_type": "execute_result"
    },
    {
     "data": {
      "image/png": "[encoded data removed]",
      "text/plain": [
       "<Figure size 640x480 with 1 Axes>"
      ]
     },
     "metadata": {},
     "output_type": "display_data"
    }
   ],
   "source": [
    "trn_examples_missing = create_markov_nets( model, trn_sequences_missing)\n",
    "\n",
    "config = {'num_epochs': 100,    # number of passes over training examples\n",
    "          'lr_const': 0.01,     # hyperparamter A\n",
    "          'lr_exp': -1,         # hyperparamter B\n",
    "          'eval_obj': 10,       # frequency of evaluation of the objective function \n",
    "          'verb': True,         # display progress\n",
    "          'solver': 'adam',     # solver \"adam\" or \"sgd\"\n",
    "          'annotation': 'homo'} # type of missingness \"home\"-geneous or \"unhomo\"-geneous\n",
    " \n",
    "algo = M3N( config )\n",
    "\n",
    "lam = 0\n",
    "params_missing, obj_val = algo.train( trn_examples_missing, lam )\n",
    "\n",
    "plt.figure()\n",
    "plt.plot(obj_val)\n",
    "plt.ylabel(\"objective\")"
   ]
  },
  {
   "cell_type": "markdown",
   "metadata": {},
   "source": [
    "Finaly, we evaluate performance of the MN predictor trained from examples with missing labels and compare to the one trained from complete annotations and to the Bayes predictor. Note that the training errors of the predictor trained from missing labels is lower because the missing labels do not contribute to the training error as they are unknown. "
   ]
  },
  {
   "cell_type": "code",
   "execution_count": 11,
   "metadata": {},
   "outputs": [
    {
     "name": "stdout",
     "output_type": "stream",
     "text": [
      "[MN predictor trained from examples with 20.0% of missing labels]\n",
      "Training errors\n",
      "Hamming loss: 0.11720000000000001\n",
      "01-loss: 0.664\n",
      "Test errors\n",
      "Hamming loss: 0.18760000000000002\n",
      "01-loss: 0.828\n",
      "\n",
      "[MN predictor trained from complete examples]\n",
      "Training errors\n",
      "Hamming loss: 0.17120000000000002\n",
      "01-loss: 0.798\n",
      "Test errors\n",
      "Hamming loss: 0.184\n",
      "01-loss: 0.818\n",
      "\n",
      "[Test error of Bayes predictor]\n",
      "Hamming loss: 0.15619999999999737\n",
      "01 loss: 0.7453\n"
     ]
    }
   ],
   "source": [
    "trn_hamming_loss_mis, trn_01_loss_mis = algo.eval( params_missing, trn_examples_missing )\n",
    "trn_risk_hamming_m3n_mis = np.mean(trn_hamming_loss_mis)\n",
    "trn_risk_01_m3n_mis = np.mean(trn_01_loss_mis)\n",
    "\n",
    "tst_hamming_loss_mis, tst_01_loss_mis = algo.eval( params_missing, tst_examples )\n",
    "tst_risk_hamming_m3n_mis = np.mean(tst_hamming_loss_mis)\n",
    "tst_risk_01_m3n_mis = np.mean(tst_01_loss_mis)\n",
    "\n",
    "\n",
    "print(f\"[MN predictor trained from examples with {p_missing*100}% of missing labels]\")\n",
    "print(\"Training errors\")\n",
    "print(\"Hamming loss:\",trn_risk_hamming_m3n_mis)\n",
    "print(\"01-loss:\", trn_risk_01_m3n_mis )\n",
    "print(\"Test errors\")\n",
    "print(\"Hamming loss:\",tst_risk_hamming_m3n_mis)\n",
    "print(\"01-loss:\", tst_risk_01_m3n_mis )\n",
    "\n",
    "print()\n",
    "print(f\"[MN predictor trained from complete examples]\")\n",
    "print(\"Training errors\")\n",
    "print(\"Hamming loss:\",trn_risk_hamming_m3n)\n",
    "print(\"01-loss:\", trn_risk_01_m3n )\n",
    "print(\"Test errors\")\n",
    "print(\"Hamming loss:\",tst_risk_hamming_m3n)\n",
    "print(\"01-loss:\", tst_risk_01_m3n )\n",
    "\n",
    "print()\n",
    "print(\"[Test error of Bayes predictor]\")\n",
    "print( \"Hamming loss:\", risk_hamming_decode)\n",
    "print( \"01 loss:\", risk_01_map)"
   ]
  }
 ],
 "metadata": {
  "kernelspec": {
   "display_name": "Python 3.10.8 ('manet')",
   "language": "python",
   "name": "python3"
  },
  "language_info": {
   "codemirror_mode": {
    "name": "ipython",
    "version": 3
   },
   "file_extension": ".py",
   "mimetype": "text/x-python",
   "name": "python",
   "nbconvert_exporter": "python",
   "pygments_lexer": "ipython3",
   "version": "3.10.8"
  },
  "vscode": {
   "interpreter": {
    "hash": "34eb675ba1599e41a978d852241fe8b4873ed3c3e59b32810c909d7852b5516c"
   }
  }
 },
 "nbformat": 4,
 "nbformat_minor": 4
}
